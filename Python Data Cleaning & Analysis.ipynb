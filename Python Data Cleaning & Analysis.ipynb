{
 "cells": [
  {
   "cell_type": "code",
   "execution_count": 1,
   "id": "d2114e7d",
   "metadata": {},
   "outputs": [
    {
     "name": "stdout",
     "output_type": "stream",
     "text": [
      "Requirement already satisfied: pandas in c:\\users\\ashua\\anaconda3\\lib\\site-packages (2.0.3)\n",
      "Requirement already satisfied: python-dateutil>=2.8.2 in c:\\users\\ashua\\anaconda3\\lib\\site-packages (from pandas) (2.8.2)\n",
      "Requirement already satisfied: pytz>=2020.1 in c:\\users\\ashua\\anaconda3\\lib\\site-packages (from pandas) (2023.3.post1)\n",
      "Requirement already satisfied: tzdata>=2022.1 in c:\\users\\ashua\\anaconda3\\lib\\site-packages (from pandas) (2023.3)\n",
      "Requirement already satisfied: numpy>=1.21.0 in c:\\users\\ashua\\anaconda3\\lib\\site-packages (from pandas) (1.24.3)\n",
      "Requirement already satisfied: six>=1.5 in c:\\users\\ashua\\anaconda3\\lib\\site-packages (from python-dateutil>=2.8.2->pandas) (1.16.0)\n"
     ]
    }
   ],
   "source": [
    "!pip install pandas"
   ]
  },
  {
   "cell_type": "markdown",
   "id": "9ccd98dc",
   "metadata": {},
   "source": [
    "# Task 1: Loading Hospitalization Details\n",
    "In this task, we load the hospitalization details from the 'hospitalisation_details.csv' file into a Pandas DataFrame named 'hosp_details.' This step is essential for our new project, \"Medical Dataset Analysis: Python, SQL, and Insights,\" as it forms the foundation for the data analysis and insights that we aim to derive from the medical dataset."
   ]
  },
  {
   "cell_type": "code",
   "execution_count": 9,
   "id": "8c8966e7",
   "metadata": {},
   "outputs": [],
   "source": [
    "import pandas as pd\n",
    "import os"
   ]
  },
  {
   "cell_type": "code",
   "execution_count": 14,
   "id": "df7619fd",
   "metadata": {},
   "outputs": [
    {
     "data": {
      "text/plain": [
       "'C:\\\\Users\\\\ashua'"
      ]
     },
     "execution_count": 14,
     "metadata": {},
     "output_type": "execute_result"
    }
   ],
   "source": [
    "pwd"
   ]
  },
  {
   "cell_type": "code",
   "execution_count": 19,
   "id": "52069796",
   "metadata": {},
   "outputs": [
    {
     "data": {
      "text/html": [
       "<div>\n",
       "<style scoped>\n",
       "    .dataframe tbody tr th:only-of-type {\n",
       "        vertical-align: middle;\n",
       "    }\n",
       "\n",
       "    .dataframe tbody tr th {\n",
       "        vertical-align: top;\n",
       "    }\n",
       "\n",
       "    .dataframe thead th {\n",
       "        text-align: right;\n",
       "    }\n",
       "</style>\n",
       "<table border=\"1\" class=\"dataframe\">\n",
       "  <thead>\n",
       "    <tr style=\"text-align: right;\">\n",
       "      <th></th>\n",
       "      <th>c_id</th>\n",
       "      <th>yr</th>\n",
       "      <th>mth</th>\n",
       "      <th>date?</th>\n",
       "      <th>children?</th>\n",
       "      <th>charges?</th>\n",
       "      <th>host_tier</th>\n",
       "      <th>Ct_tier</th>\n",
       "      <th>st_id</th>\n",
       "      <th>Has_Children</th>\n",
       "      <th>Is_Frequent_Treatment</th>\n",
       "    </tr>\n",
       "  </thead>\n",
       "  <tbody>\n",
       "    <tr>\n",
       "      <th>0</th>\n",
       "      <td>Id2335</td>\n",
       "      <td>1992</td>\n",
       "      <td>Jul</td>\n",
       "      <td>9</td>\n",
       "      <td>0</td>\n",
       "      <td>563.84</td>\n",
       "      <td>tier - 2</td>\n",
       "      <td>tier - 3</td>\n",
       "      <td>R1013</td>\n",
       "      <td>no</td>\n",
       "      <td>no</td>\n",
       "    </tr>\n",
       "    <tr>\n",
       "      <th>1</th>\n",
       "      <td>Id2334</td>\n",
       "      <td>1992</td>\n",
       "      <td>Nov</td>\n",
       "      <td>30</td>\n",
       "      <td>0</td>\n",
       "      <td>570.62</td>\n",
       "      <td>tier - 2</td>\n",
       "      <td>tier - 1</td>\n",
       "      <td>R1013</td>\n",
       "      <td>no</td>\n",
       "      <td>no</td>\n",
       "    </tr>\n",
       "    <tr>\n",
       "      <th>2</th>\n",
       "      <td>Id2333</td>\n",
       "      <td>1993</td>\n",
       "      <td>NaN</td>\n",
       "      <td>30</td>\n",
       "      <td>0</td>\n",
       "      <td>600.00</td>\n",
       "      <td>tier - 2</td>\n",
       "      <td>tier - 1</td>\n",
       "      <td>R1013</td>\n",
       "      <td>no</td>\n",
       "      <td>no</td>\n",
       "    </tr>\n",
       "    <tr>\n",
       "      <th>3</th>\n",
       "      <td>Id2332</td>\n",
       "      <td>1992</td>\n",
       "      <td>Sep</td>\n",
       "      <td>13</td>\n",
       "      <td>0</td>\n",
       "      <td>604.54</td>\n",
       "      <td>tier - 3</td>\n",
       "      <td>tier - 3</td>\n",
       "      <td>R1013</td>\n",
       "      <td>no</td>\n",
       "      <td>no</td>\n",
       "    </tr>\n",
       "    <tr>\n",
       "      <th>4</th>\n",
       "      <td>Id2331</td>\n",
       "      <td>1998</td>\n",
       "      <td>Jul</td>\n",
       "      <td>27</td>\n",
       "      <td>0</td>\n",
       "      <td>637.26</td>\n",
       "      <td>tier - 3</td>\n",
       "      <td>tier - 3</td>\n",
       "      <td>R1013</td>\n",
       "      <td>no</td>\n",
       "      <td>no</td>\n",
       "    </tr>\n",
       "  </tbody>\n",
       "</table>\n",
       "</div>"
      ],
      "text/plain": [
       "     c_id    yr  mth  date?  children?  charges? host_tier   Ct_tier  st_id  \\\n",
       "0  Id2335  1992  Jul      9          0    563.84  tier - 2  tier - 3  R1013   \n",
       "1  Id2334  1992  Nov     30          0    570.62  tier - 2  tier - 1  R1013   \n",
       "2  Id2333  1993  NaN     30          0    600.00  tier - 2  tier - 1  R1013   \n",
       "3  Id2332  1992  Sep     13          0    604.54  tier - 3  tier - 3  R1013   \n",
       "4  Id2331  1998  Jul     27          0    637.26  tier - 3  tier - 3  R1013   \n",
       "\n",
       "  Has_Children Is_Frequent_Treatment  \n",
       "0           no                    no  \n",
       "1           no                    no  \n",
       "2           no                    no  \n",
       "3           no                    no  \n",
       "4           no                    no  "
      ]
     },
     "execution_count": 19,
     "metadata": {},
     "output_type": "execute_result"
    }
   ],
   "source": [
    "hosp_details = pd.read_csv(r'C:\\Users\\ashua\\Desktop\\Studies\\Hi consuler Project\\hospitalisation_details.csv')\n",
    "hosp_details.head()"
   ]
  },
  {
   "cell_type": "markdown",
   "id": "3b10d83c",
   "metadata": {},
   "source": [
    "# Task 2: Identifying Null Values in Hospitalization Details\n",
    "In this task, we identify and count the null values in the 'hosp_details' dataset. This step is crucial for our new project, \"Medical Dataset Analysis: Python, SQL, and Insights,\" as it helps us understand the extent of missing data within the dataset. Recognizing and handling null values is essential for ensuring the accuracy and quality of our data analysis and insights."
   ]
  },
  {
   "cell_type": "code",
   "execution_count": 22,
   "id": "c90b9181",
   "metadata": {},
   "outputs": [
    {
     "name": "stdout",
     "output_type": "stream",
     "text": [
      "c_id                     0\n",
      "yr                       0\n",
      "mth                      1\n",
      "date?                    0\n",
      "children?                0\n",
      "charges?                 0\n",
      "host_tier                0\n",
      "Ct_tier                  0\n",
      "st_id                    0\n",
      "Has_Children             0\n",
      "Is_Frequent_Treatment    0\n",
      "dtype: int64\n"
     ]
    }
   ],
   "source": [
    "null_values = hosp_details.isnull().sum()\n",
    "print(null_values)"
   ]
  },
  {
   "cell_type": "markdown",
   "id": "e642c163",
   "metadata": {},
   "source": [
    "# Task 3: Identifying Data Types in Hospitalization Details\n",
    "In this task, we determine the data types of the columns in the 'hosp_details' dataset. This step is vital for our data analysis, as it provides insights into how the data is stored and helps us select appropriate methods for further analysis. Understanding the data types is crucial for working with the dataset effectively."
   ]
  },
  {
   "cell_type": "code",
   "execution_count": 24,
   "id": "4a2d12b5",
   "metadata": {},
   "outputs": [
    {
     "name": "stdout",
     "output_type": "stream",
     "text": [
      "c_id                      object\n",
      "yr                         int64\n",
      "mth                       object\n",
      "date?                      int64\n",
      "children?                  int64\n",
      "charges?                 float64\n",
      "host_tier                 object\n",
      "Ct_tier                   object\n",
      "st_id                     object\n",
      "Has_Children              object\n",
      "Is_Frequent_Treatment     object\n",
      "dtype: object\n"
     ]
    }
   ],
   "source": [
    "datatype = hosp_details.dtypes\n",
    "print(datatype)"
   ]
  },
  {
   "cell_type": "markdown",
   "id": "c2367f24",
   "metadata": {},
   "source": [
    "# Task 4: Identifying Duplicate Data in Hospitalization Details\n",
    "In this task, we aim to identify and quantify the presence of duplicate data within the 'hosp_details' dataset. The count of duplicates (referred to as 'duplicates' in the code) is an important metric. It helps us understand the extent of redundancy in the dataset, which is crucial for data quality and accuracy in our analysis. By recognizing and handling duplicate records, we ensure that our insights and conclusions are based on unique, meaningful data, preventing any potential distortions caused by repeated entries."
   ]
  },
  {
   "cell_type": "code",
   "execution_count": 26,
   "id": "66c6b449",
   "metadata": {},
   "outputs": [
    {
     "name": "stdout",
     "output_type": "stream",
     "text": [
      "89\n"
     ]
    }
   ],
   "source": [
    "duplicates = hosp_details.duplicated().sum()\n",
    "print(duplicates)"
   ]
  },
  {
   "cell_type": "markdown",
   "id": "632132be",
   "metadata": {},
   "source": [
    "# Task 5: Data Preprocessing and Cleaning for Hospitalization Details\n",
    "In this task, we perform data preprocessing and cleaning on the 'hosp_details' dataset. We start by removing duplicate records to ensure data quality and accuracy. Next, we remove specific columns, 'Has_Children' and 'Is_Frequent_Treatment,' as they are not relevant to our analysis. We also rename columns to improve clarity and understanding of the data. Finally, we save the cleaned dataset as 'hospitalisation_details_cleaned.csv.' This data preprocessing and cleaning is crucial for our analysis, as it ensures that we work with accurate and meaningful data in our new project."
   ]
  },
  {
   "cell_type": "code",
   "execution_count": 37,
   "id": "76cf250f",
   "metadata": {},
   "outputs": [],
   "source": [
    "hosp_details.drop_duplicates(inplace=True)"
   ]
  },
  {
   "cell_type": "code",
   "execution_count": 38,
   "id": "f77461b2",
   "metadata": {},
   "outputs": [],
   "source": [
    "hosp_details.drop_duplicates(inplace=True)\n",
    "columns_to_remove = ['Has_Children','Is_Frequent_Treatment']"
   ]
  },
  {
   "cell_type": "code",
   "execution_count": 39,
   "id": "ac59a8d6",
   "metadata": {},
   "outputs": [],
   "source": [
    "new_columns = {\n",
    "    'c_id': 'customer_id',\n",
    "    'yr': 'year',\n",
    "    'mth': 'month',\n",
    "    'date?': 'date',\n",
    "    'children?': 'children',\n",
    "    'charges?': 'charges',\n",
    "    'host_tier': 'hospital_tier',\n",
    "    'Ct_tier': 'city_tier',\n",
    "    'st_id': 'state_id'\n",
    "}\n",
    "\n",
    "hosp_details.rename(columns=new_columns, inplace=True)"
   ]
  },
  {
   "cell_type": "code",
   "execution_count": 41,
   "id": "be09d9a0",
   "metadata": {},
   "outputs": [
    {
     "name": "stdout",
     "output_type": "stream",
     "text": [
      "     customer_id  year month  date  children   charges hospital_tier  \\\n",
      "0         Id2335  1992   Jul     9         0    563.84      tier - 2   \n",
      "1         Id2334  1992   Nov    30         0    570.62      tier - 2   \n",
      "2         Id2333  1993   NaN    30         0    600.00      tier - 2   \n",
      "3         Id2332  1992   Sep    13         0    604.54      tier - 3   \n",
      "4         Id2331  1998   Jul    27         0    637.26      tier - 3   \n",
      "...          ...   ...   ...   ...       ...       ...           ...   \n",
      "2338         Id5  1989   Jun    19         0  55135.40      tier - 1   \n",
      "2339         Id4  1991   Jun     6         1  58571.07      tier - 1   \n",
      "2340         Id3  1970   Jun    11         3  60021.40      tier - 1   \n",
      "2341         Id2  1977   Jun     8         0  62592.87      tier - 2   \n",
      "2342         Id1  1968   Oct    12         0  63770.43      tier - 1   \n",
      "\n",
      "     city_tier state_id  \n",
      "0     tier - 3    R1013  \n",
      "1     tier - 1    R1013  \n",
      "2     tier - 1    R1013  \n",
      "3     tier - 3    R1013  \n",
      "4     tier - 3    R1013  \n",
      "...        ...      ...  \n",
      "2338  tier - 2    R1012  \n",
      "2339  tier - 3    R1024  \n",
      "2340  tier - 1    R1012  \n",
      "2341  tier - 3    R1013  \n",
      "2342  tier - 3    R1013  \n",
      "\n",
      "[2343 rows x 9 columns]\n"
     ]
    }
   ],
   "source": [
    "hosp_details.to_csv('hospitalisation_details_cleaned.csv', index=False)\n",
    "print(hosp_details)"
   ]
  },
  {
   "cell_type": "markdown",
   "id": "b54808ef",
   "metadata": {},
   "source": [
    "# Task 6: Loading Medical Examination Data\n",
    "In this task, we load the medical examination data from the 'medical_examinations.csv' file into a Pandas DataFrame named 'med_exam.' This step is essential for our new project, \"Medical Dataset Analysis: Python, SQL, and Insights,\" as it forms the foundation for the data analysis and insights that we aim to derive from the medical dataset."
   ]
  },
  {
   "cell_type": "code",
   "execution_count": 42,
   "id": "3887b993",
   "metadata": {},
   "outputs": [
    {
     "data": {
      "text/html": [
       "<div>\n",
       "<style scoped>\n",
       "    .dataframe tbody tr th:only-of-type {\n",
       "        vertical-align: middle;\n",
       "    }\n",
       "\n",
       "    .dataframe tbody tr th {\n",
       "        vertical-align: top;\n",
       "    }\n",
       "\n",
       "    .dataframe thead th {\n",
       "        text-align: right;\n",
       "    }\n",
       "</style>\n",
       "<table border=\"1\" class=\"dataframe\">\n",
       "  <thead>\n",
       "    <tr style=\"text-align: right;\">\n",
       "      <th></th>\n",
       "      <th>cid</th>\n",
       "      <th>b_m_i</th>\n",
       "      <th>HBA1C</th>\n",
       "      <th>h_Issues</th>\n",
       "      <th>any_transplant</th>\n",
       "      <th>cancer_hist</th>\n",
       "      <th>noofmajorsurgeries</th>\n",
       "      <th>smoker??</th>\n",
       "      <th>recovery_period</th>\n",
       "    </tr>\n",
       "  </thead>\n",
       "  <tbody>\n",
       "    <tr>\n",
       "      <th>0</th>\n",
       "      <td>Id1</td>\n",
       "      <td>47.410</td>\n",
       "      <td>7.47</td>\n",
       "      <td>No</td>\n",
       "      <td>No</td>\n",
       "      <td>No</td>\n",
       "      <td>No major surgery</td>\n",
       "      <td>yes</td>\n",
       "      <td>NaN</td>\n",
       "    </tr>\n",
       "    <tr>\n",
       "      <th>1</th>\n",
       "      <td>Id2</td>\n",
       "      <td>30.360</td>\n",
       "      <td>5.77</td>\n",
       "      <td>No</td>\n",
       "      <td>No</td>\n",
       "      <td>No</td>\n",
       "      <td>No major surgery</td>\n",
       "      <td>yes</td>\n",
       "      <td>NaN</td>\n",
       "    </tr>\n",
       "    <tr>\n",
       "      <th>2</th>\n",
       "      <td>Id3</td>\n",
       "      <td>34.485</td>\n",
       "      <td>11.87</td>\n",
       "      <td>yes</td>\n",
       "      <td>No</td>\n",
       "      <td>No</td>\n",
       "      <td>2</td>\n",
       "      <td>yes</td>\n",
       "      <td>Moderate</td>\n",
       "    </tr>\n",
       "    <tr>\n",
       "      <th>3</th>\n",
       "      <td>Id4</td>\n",
       "      <td>38.095</td>\n",
       "      <td>6.05</td>\n",
       "      <td>No</td>\n",
       "      <td>No</td>\n",
       "      <td>No</td>\n",
       "      <td>No major surgery</td>\n",
       "      <td>yes</td>\n",
       "      <td>NaN</td>\n",
       "    </tr>\n",
       "    <tr>\n",
       "      <th>4</th>\n",
       "      <td>Id5</td>\n",
       "      <td>35.530</td>\n",
       "      <td>5.45</td>\n",
       "      <td>No</td>\n",
       "      <td>No</td>\n",
       "      <td>No</td>\n",
       "      <td>No major surgery</td>\n",
       "      <td>yes</td>\n",
       "      <td>NaN</td>\n",
       "    </tr>\n",
       "  </tbody>\n",
       "</table>\n",
       "</div>"
      ],
      "text/plain": [
       "   cid   b_m_i  HBA1C h_Issues any_transplant cancer_hist noofmajorsurgeries  \\\n",
       "0  Id1  47.410   7.47       No             No          No   No major surgery   \n",
       "1  Id2  30.360   5.77       No             No          No   No major surgery   \n",
       "2  Id3  34.485  11.87      yes             No          No                  2   \n",
       "3  Id4  38.095   6.05       No             No          No   No major surgery   \n",
       "4  Id5  35.530   5.45       No             No          No   No major surgery   \n",
       "\n",
       "  smoker?? recovery_period  \n",
       "0      yes             NaN  \n",
       "1      yes             NaN  \n",
       "2      yes        Moderate  \n",
       "3      yes             NaN  \n",
       "4      yes             NaN  "
      ]
     },
     "execution_count": 42,
     "metadata": {},
     "output_type": "execute_result"
    }
   ],
   "source": [
    "med_exam = pd.read_csv(r'C:\\Users\\ashua\\Desktop\\Studies\\Hi consuler Project\\medical_examinations.csv')\n",
    "med_exam.head()"
   ]
  },
  {
   "cell_type": "markdown",
   "id": "a61e5406",
   "metadata": {},
   "source": [
    "# Task 7: Identifying Null Values in Medical Examination Data\n",
    "In this task, we identify and count the null values in the 'med_exam' dataset. This step is crucial for our new project, as it helps us understand the extent of missing data within the dataset. Recognizing and handling null values is essential for ensuring the accuracy and quality of our data analysis and insights."
   ]
  },
  {
   "cell_type": "code",
   "execution_count": 44,
   "id": "bb466990",
   "metadata": {},
   "outputs": [
    {
     "name": "stdout",
     "output_type": "stream",
     "text": [
      "cid                      0\n",
      "b_m_i                    0\n",
      "HBA1C                    0\n",
      "h_Issues                 0\n",
      "any_transplant           0\n",
      "cancer_hist              0\n",
      "noofmajorsurgeries       0\n",
      "smoker??                 0\n",
      "recovery_period       1096\n",
      "dtype: int64\n"
     ]
    }
   ],
   "source": [
    "null_values = med_exam.isnull().sum()\n",
    "print(null_values)"
   ]
  },
  {
   "cell_type": "markdown",
   "id": "4bed7f55",
   "metadata": {},
   "source": [
    "# Task 8: Identifying Data Types in Medical Examination Data\n",
    "In this task, we determine the data types of the columns in the 'med_exam' dataset. This step is vital for our data analysis, as it provides insights into how the data is stored and helps us select appropriate methods for further analysis. Understanding the data types is crucial for working with the dataset effectively."
   ]
  },
  {
   "cell_type": "code",
   "execution_count": 46,
   "id": "ad61f2fb",
   "metadata": {},
   "outputs": [
    {
     "name": "stdout",
     "output_type": "stream",
     "text": [
      "cid                    object\n",
      "b_m_i                 float64\n",
      "HBA1C                 float64\n",
      "h_Issues               object\n",
      "any_transplant         object\n",
      "cancer_hist            object\n",
      "noofmajorsurgeries     object\n",
      "smoker??               object\n",
      "recovery_period        object\n",
      "dtype: object\n"
     ]
    }
   ],
   "source": [
    "datatype = med_exam.dtypes\n",
    "print(datatype)"
   ]
  },
  {
   "cell_type": "markdown",
   "id": "9241b451",
   "metadata": {},
   "source": [
    "# Task 9: Identifying Duplicate Data in Medical Examination Data\n",
    "In this task, we aim to identify and quantify the presence of duplicate data within the 'med_exam' dataset. The count of duplicates (referred to as 'duplicates' in the code) is an important metric. It helps us understand the extent of redundancy in the dataset, which is crucial for data quality and accuracy in our analysis. By recognizing and handling duplicate records, we ensure that our insights and conclusions are based on unique, meaningful data, preventing any potential distortions caused by repeated entries."
   ]
  },
  {
   "cell_type": "code",
   "execution_count": 47,
   "id": "c7638e3d",
   "metadata": {},
   "outputs": [
    {
     "name": "stdout",
     "output_type": "stream",
     "text": [
      "39\n"
     ]
    }
   ],
   "source": [
    "duplicates = med_exam.duplicated().sum()\n",
    "print(duplicates)"
   ]
  },
  {
   "cell_type": "markdown",
   "id": "c7d63a35",
   "metadata": {},
   "source": [
    "# Task 10: Data Preprocessing and Cleaning for Medical Examination Data\n",
    "In this task, we perform data preprocessing and cleaning on the 'med_exam' dataset. We start by removing duplicate records to ensure data quality and accuracy. Next, we remove a specific column, 'recovery_period,' as it may not be relevant to our analysis. We also rename columns to improve clarity and understanding of the data. Finally, we save the cleaned dataset as 'medical_examinations_cleaned.csv.' This data preprocessing and cleaning is crucial for our analysis, as it ensures that we work with accurate and meaningful data in our new project."
   ]
  },
  {
   "cell_type": "code",
   "execution_count": 54,
   "id": "1ed5f549",
   "metadata": {},
   "outputs": [],
   "source": [
    "med_exam.drop_duplicates(inplace=True)\n",
    "columns_to_remove = [\"recovery_period\"]"
   ]
  },
  {
   "cell_type": "code",
   "execution_count": 56,
   "id": "8c6da9c5",
   "metadata": {},
   "outputs": [],
   "source": [
    "new_columns = {\n",
    "    'cid': 'customer_id',\n",
    "    'b_m_i': 'BMI',\n",
    "    'h_Issues': 'health_issues',\n",
    "    'cancer_hist': 'cancer_history',\n",
    "    'noofmajorsurgeries': 'numberofmajorsurgeries',\n",
    "    'smoker??': 'smoker'\n",
    "}\n",
    "med_exam.rename(columns=new_columns, inplace=True)"
   ]
  },
  {
   "cell_type": "code",
   "execution_count": 58,
   "id": "3d996154",
   "metadata": {},
   "outputs": [
    {
     "name": "stdout",
     "output_type": "stream",
     "text": [
      "     customer_id     BMI  HBA1C health_issues any_transplant cancer_history  \\\n",
      "0            Id1  47.410   7.47            No             No             No   \n",
      "1            Id2  30.360   5.77            No             No             No   \n",
      "2            Id3  34.485  11.87           yes             No             No   \n",
      "3            Id4  38.095   6.05            No             No             No   \n",
      "4            Id5  35.530   5.45            No             No             No   \n",
      "...          ...     ...    ...           ...            ...            ...   \n",
      "2330      Id2331  22.340   5.57            No             No             No   \n",
      "2331      Id2332  17.700   6.28            No             No             No   \n",
      "2332      Id2333  16.470   6.35            No             No            Yes   \n",
      "2333      Id2334  17.600   4.39            No             No             No   \n",
      "2334      Id2335  17.580   4.51            No             No             No   \n",
      "\n",
      "     numberofmajorsurgeries smoker  \n",
      "0          No major surgery    yes  \n",
      "1          No major surgery    yes  \n",
      "2                         2    yes  \n",
      "3          No major surgery    yes  \n",
      "4          No major surgery    yes  \n",
      "...                     ...    ...  \n",
      "2330                      1     No  \n",
      "2331                      1     No  \n",
      "2332                      1     No  \n",
      "2333                      1     No  \n",
      "2334                      1     No  \n",
      "\n",
      "[2335 rows x 8 columns]\n"
     ]
    }
   ],
   "source": [
    "med_exam.to_csv('medical_examinations_cleaned.csv', index=False)\n",
    "print(med_exam)"
   ]
  }
 ],
 "metadata": {
  "kernelspec": {
   "display_name": "Python 3 (ipykernel)",
   "language": "python",
   "name": "python3"
  },
  "language_info": {
   "codemirror_mode": {
    "name": "ipython",
    "version": 3
   },
   "file_extension": ".py",
   "mimetype": "text/x-python",
   "name": "python",
   "nbconvert_exporter": "python",
   "pygments_lexer": "ipython3",
   "version": "3.11.5"
  }
 },
 "nbformat": 4,
 "nbformat_minor": 5
}
